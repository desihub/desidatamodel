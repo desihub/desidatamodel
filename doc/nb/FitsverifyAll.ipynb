{
 "cells": [
  {
   "cell_type": "markdown",
   "id": "2eb68188-ab2c-4fd1-a8f7-e77658801dba",
   "metadata": {
    "tags": []
   },
   "source": [
    "# Run fitsverify"
   ]
  },
  {
   "cell_type": "code",
   "execution_count": 1,
   "id": "afce0339-a3b0-4630-80b7-7189850462ca",
   "metadata": {},
   "outputs": [],
   "source": [
    "import os\n",
    "import sys\n",
    "import re\n",
    "import shutil\n",
    "import subprocess as sp\n",
    "from configparser import ConfigParser\n",
    "from random import choice, choices\n",
    "specprod = 'guadalupe'\n",
    "specprod_path = os.path.join(os.environ['DESI_SPECTRO_REDUX'], specprod)"
   ]
  },
  {
   "cell_type": "markdown",
   "id": "213f4c80-60cd-4ff1-bef8-e77c6d380100",
   "metadata": {},
   "source": [
    "## Create input file"
   ]
  },
  {
   "cell_type": "code",
   "execution_count": 2,
   "id": "9a15009d-7365-48db-befd-3628d2418d00",
   "metadata": {},
   "outputs": [],
   "source": [
    "files = os.path.join(os.environ['CSCRATCH'], f'{specprod}_files.txt')\n",
    "if not os.path.exists(files):\n",
    "    # os.chdir(specprod_path)\n",
    "    with open(files, 'w') as out:\n",
    "        command = ['find', 'calibnight', 'exposures', 'healpix', 'preproc', 'tiles', 'zcatalog', '-type', 'f']\n",
    "        proc = sp.Popen(command, stdout=out, stderr=sp.DEVNULL, cwd=specprod_path)\n",
    "        status = proc.wait()\n",
    "        for k in ('exposures', 'tiles'):\n",
    "            for l in ('fits', 'csv'):\n",
    "                if os.path.exists(os.path.join(specprod_path, f'{k}-{specprod}.{l}')):\n",
    "                    out.write(f'{k}-{specprod}.{l}\\n')"
   ]
  },
  {
   "cell_type": "markdown",
   "id": "1dbbd419-42b0-455b-9dd8-e5e846093ba2",
   "metadata": {},
   "source": [
    "## List of Regular Expressions"
   ]
  },
  {
   "cell_type": "code",
   "execution_count": 6,
   "id": "9c8bbd2c-4d51-4d52-86c9-5c9a85e4d63f",
   "metadata": {},
   "outputs": [],
   "source": [
    "parser = ConfigParser()\n",
    "parser.read_string(\"\"\"\n",
    "[top]\n",
    "exposures = exposures-[a-z]+\\.fits;exposures-SPECPROD.rst\n",
    "tiles = tiles-[a-z]+\\.fits;tiles-SPECPROD.rst\n",
    "\n",
    "[calibnight]\n",
    "biasnight = calibnight/[0-9]{8}/biasnight-[brz][0-9]-[0-9]{8}\\.fits\\.gz;calibnight/NIGHT/biasnight-CAMERA-NIGHT.rst\n",
    "biasnighttest = calibnight/[0-9]{8}/biasnight-[brz][0-9]-[0-9]{8}\\.fits\\.gz;calibnight/NIGHT/biasnighttest-CAMERA-NIGHT.rst\n",
    "fiberflatnight = calibnight/[0-9]{8}/fiberflatnight-[brz][0-9]-[0-9]{8}\\.fits;calibnight/NIGHT/fiberflatnight-CAMERA-NIGHT.rst\n",
    "psfnight = calibnight/[0-9]{8}/psfnight-[brz][0-9]-[0-9]{8}\\.fits;calibnight/NIGHT/psfnight-CAMERA-NIGHT.rst\n",
    "\n",
    "[exposures]\n",
    "cframe = exposures/[0-9]{8}/[0-9]{8}/cframe-[brz][0-9]-[0-9]{8}\\.fits;exposures/NIGHT/EXPID/cframe-CAMERA-EXPID.rst\n",
    "exposure-qa = exposures/[0-9]{8}/[0-9]{8}/exposure-qa-[0-9]{8}\\.fits;exposures/NIGHT/EXPID/exposure-qa-EXPID.rst\n",
    "fiberflat = exposures/[0-9]{8}/[0-9]{8}/fiberflat-[brz][0-9]-[0-9]{8}\\.fits;exposures/NIGHT/EXPID/fiberflat-CAMERA-EXPID.rst\n",
    "fiberflatexp = exposures/[0-9]{8}/[0-9]{8}/fiberflatexp-[brz][0-9]-[0-9]{8}\\.fits;exposures/NIGHT/EXPID/fiberflatexp-CAMERA-EXPID.rst\n",
    "fit-psf = exposures/[0-9]{8}/[0-9]{8}/fit-psf-[brz][0-9]-[0-9]{8}\\.fits;exposures/NIGHT/EXPID/fit-psf-CAMERA-EXPID.rst\n",
    "fit-psf-before-listed = exposures/[0-9]{8}/[0-9]{8}/fit-psf-before-listed-[brz][0-9]-[0-9]{8}\\.fits;exposures/NIGHT/EXPID/fit-psf-before-blacklisted-CAMERA-EXPID.rst\n",
    "fit-psf-before-listed-fix = exposures/[0-9]{8}/[0-9]{8}/fit-psf-before-listed-fix-[brz][0-9]-[0-9]{8}\\.fits;exposures/NIGHT/EXPID/fit-psf-before-blacklisted-fix-CAMERA-EXPID.rst\n",
    "fit-psf-fixed-listed = exposures/[0-9]{8}/[0-9]{8}/fit-psf-fixed-listed-[brz][0-9]-[0-9]{8}\\.fits;exposures/NIGHT/EXPID/fit-psf-fixed-blacklisted-CAMERA-EXPID.rst\n",
    "fluxcalib = exposures/[0-9]{8}/[0-9]{8}/fluxcalib-[brz][0-9]-[0-9]{8}\\.fits;exposures/NIGHT/EXPID/fluxcalib-CAMERA-EXPID.rst\n",
    "frame = exposures/[0-9]{8}/[0-9]{8}/frame-[brz][0-9]-[0-9]{8}\\.fits;exposures/NIGHT/EXPID/frame-CAMERA-EXPID.rst\n",
    "psf = exposures/[0-9]{8}/[0-9]{8}/psf-[brz][0-9]-[0-9]{8}\\.fits;exposures/NIGHT/EXPID/psf-CAMERA-EXPID.rst\n",
    "sframe = exposures/[0-9]{8}/[0-9]{8}/sframe-[brz][0-9]-[0-9]{8}\\.fits;exposures/NIGHT/EXPID/sframe-CAMERA-EXPID.rst\n",
    "shifted-input-psf = exposures/[0-9]{8}/[0-9]{8}/shifted-input-psf-[brz][0-9]-[0-9]{8}\\.fits;exposures/NIGHT/EXPID/shifted-input-psf-CAMERA-EXPID.rst\n",
    "sky = exposures/[0-9]{8}/[0-9]{8}/sky-[brz][0-9]-[0-9]{8}\\.fits;exposures/NIGHT/EXPID/sky-CAMERA-EXPID.rst\n",
    "stdstars = exposures/[0-9]{8}/[0-9]{8}/stdstars-[0-9]-[0-9]{8}\\.fits;exposures/NIGHT/EXPID/stdstars-SPECTROGRAPH-EXPID.rst\n",
    "\n",
    "[healpix]\n",
    "coadd = healpix/(cmx|sv1|sv2|sv3|main|special)/(backup|bright|dark|other)/[0-9]+/[0-9]+/coadd-(cmx|sv1|sv2|sv3|main|special)-(backup|bright|dark|other)-[0-9]+\\.fits;healpix/SURVEY/PROGRAM/PIXGROUP/PIXNUM/coadd-SURVEY-PROGRAM-PIXNUM.rst\n",
    "emline = healpix/(cmx|sv1|sv2|sv3|main|special)/(backup|bright|dark|other)/[0-9]+/[0-9]+/emline-(cmx|sv1|sv2|sv3|main|special)-(backup|bright|dark|other)-[0-9]+\\.fits;healpix/SURVEY/PROGRAM/PIXGROUP/PIXNUM/coadd-SURVEY-PROGRAM-PIXNUM.rst\n",
    "qso_mgii = healpix/(cmx|sv1|sv2|sv3|main|special)/(backup|bright|dark|other)/[0-9]+/[0-9]+/qso_mgii-(cmx|sv1|sv2|sv3|main|special)-(backup|bright|dark|other)-[0-9]+\\.fits;healpix/SURVEY/PROGRAM/PIXGROUP/PIXNUM/qso_mgii-SURVEY-PROGRAM-PIXNUM.rst\n",
    "qso_qn = healpix/(cmx|sv1|sv2|sv3|main|special)/(backup|bright|dark|other)/[0-9]+/[0-9]+/qso_qn-(cmx|sv1|sv2|sv3|main|special)-(backup|bright|dark|other)-[0-9]+\\.fits;healpix/SURVEY/PROGRAM/PIXGROUP/PIXNUM/qso_qn-SURVEY-PROGRAM-PIXNUM.rst\n",
    "redrock = healpix/(cmx|sv1|sv2|sv3|main|special)/(backup|bright|dark|other)/[0-9]+/[0-9]+/redrock-(cmx|sv1|sv2|sv3|main|special)-(backup|bright|dark|other)-[0-9]+\\.fits;healpix/SURVEY/PROGRAM/PIXGROUP/PIXNUM/redrock-SURVEY-PROGRAM-PIXNUM.rst\n",
    "spectra = healpix/(cmx|sv1|sv2|sv3|main|special)/(backup|bright|dark|other)/[0-9]+/[0-9]+/spectra-(cmx|sv1|sv2|sv3|main|special)-(backup|bright|dark|other)-[0-9]+\\.fits;healpix/SURVEY/PROGRAM/PIXGROUP/PIXNUM/spectra-SURVEY-PROGRAM-PIXNUM.rst\n",
    "tilepix = healpix/tilepix\\.fits;healpix/tilepix.rst\n",
    "\n",
    "[preproc]\n",
    "fibermap = preproc/[0-9]{8}/[0-9]{8}/fibermap-[0-9]{8}\\.fits;preproc/NIGHT/EXPID/fibermap-EXPID.rst\n",
    "preproc = preproc/[0-9]{8}/[0-9]{8}/preproc-[brz][0-9]-[0-9]{8}\\.fits;preproc/NIGHT/EXPID/preproc-CAMERA-EXPID.rst\n",
    "\n",
    "[tiles]\n",
    "coadd = tiles/(cumulative|perexp|pernight)/[0-9]+/[0-9]{8}/coadd-[0-9]-[0-9]+-(thru|exp|)[0-9]{8}\\.fits;tiles/TILETYPE/TILEID/NIGHT/coadd-SPECTROGRAPH-NIGHT-EXPID.rst\n",
    "emline = tiles/(cumulative|perexp|pernight)/[0-9]+/[0-9]{8}/emline-[0-9]-[0-9]+-(thru|exp|)[0-9]{8}\\.fits;tiles/TILETYPE/TILEID/NIGHT/emline-SPECTROGRAPH-NIGHT-EXPID.rst\n",
    "qso_mgii = tiles/(cumulative|perexp|pernight)/[0-9]+/[0-9]{8}/qso_mgii-[0-9]-[0-9]+-(thru|exp|)[0-9]{8}\\.fits;tiles/TILETYPE/TILEID/NIGHT/qso_mgii-SPECTROGRAPH-NIGHT-EXPID.rst\n",
    "qso_qn = tiles/(cumulative|perexp|pernight)/[0-9]+/[0-9]{8}/qso_qn-[0-9]-[0-9]+-(thru|exp|)[0-9]{8}\\.fits;tiles/TILETYPE/TILEID/NIGHT/qso_qn-SPECTROGRAPH-NIGHT-EXPID.rst\n",
    "redrock = tiles/(cumulative|perexp|pernight)/[0-9]+/[0-9]{8}/redrock-[0-9]-[0-9]+-(thru|exp|)[0-9]{8}\\.fits;tiles/TILETYPE/TILEID/NIGHT/redrock-SPECTROGRAPH-NIGHT-EXPID.rst\n",
    "spectra = tiles/(cumulative|perexp|pernight)/[0-9]+/[0-9]{8}/spectra-[0-9]-[0-9]+-(thru|exp|)[0-9]{8}\\.fits;tiles/TILETYPE/TILEID/NIGHT/spectra-SPECTROGRAPH-NIGHT-EXPID.rst\n",
    "tile-qa = tiles/(cumulative|perexp|pernight)/[0-9]+/[0-9]{8}/tile-qa-[0-9]+-(thru|exp|)[0-9]{8}\\.fits;tiles/TILETYPE/TILEID/NIGHT/tile-qa-NIGHT-EXPID.rst\n",
    "zmtl = tiles/(cumulative|pernight)/[0-9]+/[0-9]{8}/zmtl-[0-9]-[0-9]+-(thru|exp|)[0-9]{8}\\.fits;tiles/TILETYPE/TILEID/NIGHT/tile-qa-NIGHT-EXPID.rst\n",
    "\n",
    "[tiles:depth]\n",
    "coadd = tiles/[14]x_depth/[0-9]+/[0-9]/coadd-[0-9]-[0-9]+-[14]xsubset[1-6]\\.fits;tiles/DEPTH/TILEID/SPECTROGRAPH/coadd-SPECTROGRAPH-TILEID-EXPID.rst\n",
    "emline = tiles/[14]x_depth/[0-9]+/[0-9]/emline-[0-9]-[0-9]+-[14]xsubset[1-6]\\.fits;tiles/DEPTH/TILEID/SPECTROGRAPH/emline-SPECTROGRAPH-TILEID-EXPID.rst\n",
    "qso_mgii = tiles/[14]x_depth/[0-9]+/[0-9]/qso_mgii-[0-9]-[0-9]+-[14]xsubset[1-6]\\.fits;tiles/DEPTH/TILEID/SPECTROGRAPH/qso_mgii-SPECTROGRAPH-TILEID-EXPID.rst\n",
    "qso_qn = tiles/[14]x_depth/[0-9]+/[0-9]/qso_qn-[0-9]-[0-9]+-[14]xsubset[1-6]\\.fits;tiles/DEPTH/TILEID/SPECTROGRAPH/qso_sn-SPECTROGRAPH-TILEID-EXPID.rst\n",
    "redrock = tiles/[14]x_depth/[0-9]+/[0-9]/redrock-[0-9]-[0-9]+-[14]xsubset[1-6]\\.fits;tiles/DEPTH/TILEID/SPECTROGRAPH/redrock-SPECTROGRAPH-TILEID-EXPID.rst\n",
    "spectra = tiles/[14]x_depth/[0-9]+/[0-9]/spectra-[0-9]-[0-9]+-[14]xsubset[1-6]\\.fits;tiles/DEPTH/TILEID/SPECTROGRAPH/spectra-SPECTROGRAPH-TILEID-EXPID.rst\n",
    "\n",
    "[tiles:lowspeed]\n",
    "coadd = tiles/lowspeed/[0-9]+/[0-9]/coadd-[0-9]-[0-9]+-lowspeedsubset[1-6]\\.fits;tiles/DEPTH/TILEID/SPECTROGRAPH/coadd-SPECTROGRAPH-TILEID-EXPID.rst\n",
    "emline = tiles/lowspeed/[0-9]+/[0-9]/emline-[0-9]-[0-9]+-lowspeedsubset[1-6]\\.fits;tiles/DEPTH/TILEID/SPECTROGRAPH/emline-SPECTROGRAPH-TILEID-EXPID.rst\n",
    "qso_mgii = tiles/lowspeed/[0-9]+/[0-9]/qso_mgii-[0-9]-[0-9]+-lowspeedsubset[1-6]\\.fits;tiles/DEPTH/TILEID/SPECTROGRAPH/qso_mgii-SPECTROGRAPH-TILEID-EXPID.rst\n",
    "qso_qn = tiles/lowspeed/[0-9]+/[0-9]/qso_qn-[0-9]-[0-9]+-lowspeedsubset[1-6]\\.fits;tiles/DEPTH/TILEID/SPECTROGRAPH/qso_sn-SPECTROGRAPH-TILEID-EXPID.rst\n",
    "redrock = tiles/lowspeed/[0-9]+/[0-9]/redrock-[0-9]-[0-9]+-lowspeedsubset[1-6]\\.fits;tiles/DEPTH/TILEID/SPECTROGRAPH/redrock-SPECTROGRAPH-TILEID-EXPID.rst\n",
    "spectra = tiles/lowspeed/[0-9]+/[0-9]/spectra-[0-9]-[0-9]+-lowspeedsubset[1-6]\\.fits;tiles/DEPTH/TILEID/SPECTROGRAPH/spectra-SPECTROGRAPH-TILEID-EXPID.rst\n",
    "\n",
    "[zcatalog]\n",
    "zpix = zcatalog/zpix-(cmx|sv1|sv2|sv3|main|special)-(backup|bright|dark|other)\\.fits;zcatalog/zpix-SURVEY-PROGRAM.rst\n",
    "ztile = zcatalog/ztile-(cmx|sv1|sv2|sv3|main|special)-(backup|bright|dark|other)-(cumulative|perexp|pernight)\\.fits;zcatalog/ztile-SURVEY-PROGRAM-TILETYPE.rst\n",
    "\n",
    "[exclude]\n",
    "fit-psf = exposures/[0-9]{8}/[0-9]{8}/fit-psf-[brz][0-9]-[0-9]{8}_[0-9][0-9]\\.fits;dummy\n",
    "\n",
    "[other]\n",
    "badcolumns = calibnight/[0-9]{8}/badcolumns-[brz][0-9]-[0-9]{8}\\.csv;dummy\n",
    "calibstars = exposures/[0-9]{8}/[0-9]{8}/calibstars-[0-9]{8}\\.csv;dummy\n",
    "rrdetails = healpix/(cmx|sv1|sv2|sv3|main|special)/(backup|bright|dark|other)/[0-9]+/[0-9]+/rrdetails-(cmx|sv1|sv2|sv3|main|special)-(backup|bright|dark|other)-[0-9]+\\.h5;dummy\n",
    "hpixexp = healpix/(cmx|sv1|sv2|sv3|main|special)/(backup|bright|dark|other)/[0-9]+/[0-9]+/hpixexp-(cmx|sv1|sv2|sv3|main|special)-(backup|bright|dark|other)-[0-9]+\\.csv;dummy\n",
    "healpixlog = healpix/(cmx|sv1|sv2|sv3|main|special)/(backup|bright|dark|other)/[0-9]+/[0-9]+/logs/(coadd|emline|qso_mgii|qso_qn|redrock|spectra)-(cmx|sv1|sv2|sv3|main|special)-(backup|bright|dark|other)-[0-9]+\\.log;dummy\n",
    "healpixjson = healpix/tilepix\\.json;dummy\n",
    "tilepix = preproc/[0-9]{8}/[0-9]{8}/tilepix-[0-9]+\\.json;dummy\n",
    "tileslog = tiles/(cumulative|perexp|pernight|1xdepth)/[0-9]+/[0-9]{8}/logs/(coadd|emline|qso_mgii|qso_qn|redrock|spectra|zmtl)-[0-9]-[0-9]+-(thru|exp|)[0-9]{8}\\.log;dummy\n",
    "tileqalog = tiles/(cumulative|perexp|pernight)/[0-9]+/[0-9]{8}/logs/tile-qa-[0-9]+-(thru|exp|)[0-9]{8}\\.log;dummy\n",
    "tilesdetails = tiles/(cumulative|perexp|pernight)/[0-9]+/[0-9]{8}/rrdetails-[0-9]-[0-9]+-(thru|exp|)[0-9]{8}\\.h5;dummy\n",
    "depthdetails = tiles/[14]x_depth/[0-9]+/[0-9]/rrdetails-[0-9]-[0-9]+-[14]xsubset[1-6]\\.h5;dummy\n",
    "depthlog = tiles/[14]x_depth/[0-9]+/[0-9]/logs/(coadd|emline|qso_mgii|qso_qn|redrock|spectra|zmtl)-[0-9]-[0-9]+-[14]xsubset[1-6]\\.log;dummy\n",
    "speeddetails = tiles/lowspeed/[0-9]+/[0-9]/rrdetails-[0-9]-[0-9]+-lowspeedsubset[1-6]\\.h5;dummy\n",
    "speedlog = tiles/lowspeed/[0-9]+/[0-9]/logs/(coadd|emline|qso_mgii|qso_qn|redrock|spectra|zmtl)-[0-9]-[0-9]+-lowspeedsubset[1-6]\\.log;dummy\n",
    "tile-qa = tiles/(cumulative|perexp|pernight)/[0-9]+/[0-9]{8}/tile-qa-[0-9]+-(thru|exp|)[0-9]{8}\\.png;dummy\n",
    "tiles = tiles-[a-z]+\\.csv;dummy\n",
    "exposures = exposures-[a-z]+\\.csv;dummy\n",
    "\"\"\"\n",
    "    )\n",
    "\n",
    "# [exclude]\n",
    "# calibnight = calibnight/[0-9]{8}/tmp/*;dummy\n",
    "# exposures = exposures/[0-9]{8}/old/*;dummy\n",
    "# frame = exposures/[0-9]{8}/[0-9]{8}/frame-[brz][0-9]-[0-9]{8}-no-badcolumn-mask\\.fits;dummy\n",
    "# fit = exposures/[0-9]{8}/[0-9]{8}/fit-psf-[brz][0-9]-[0-9]{8}_[0-9][0-9]\\.fits;dummy\n",
    "# preproc = preproc/[0-9]{8}/old/*;dummy\n",
    "# redrock = tiles/pernight/[0-9]+/[0-9]{8}/redrock-tmp-[0-9]-[0-9]+-[0-9]{8}\\.fits;dummy\n",
    "# rrdetails = tiles/pernight/[0-9]+/[0-9]{8}/rrdetails-tmp-[0-9]-[0-9]+-[0-9]{8}\\.fits;dummy\n"
   ]
  },
  {
   "cell_type": "markdown",
   "id": "bd7d22d9-ba0e-4749-b6ca-80c64cddb5bd",
   "metadata": {},
   "source": [
    "## Precompile Regular Expressions"
   ]
  },
  {
   "cell_type": "code",
   "execution_count": 7,
   "id": "e18804b8-a849-455e-a00b-eff99d43df42",
   "metadata": {},
   "outputs": [],
   "source": [
    "r = dict()\n",
    "structure = dict()\n",
    "for s in parser.sections():\n",
    "    r[s] = dict()\n",
    "    structure[s] = dict()\n",
    "    for key, value in parser.items(s):\n",
    "        v = value.split(';')\n",
    "        r[s][key] = re.compile(v[0])\n",
    "        structure[s][key] = v[1]"
   ]
  },
  {
   "cell_type": "markdown",
   "id": "163d38a1-3abe-4b32-a30c-ffc8259a25dd",
   "metadata": {},
   "source": [
    "## Scan the list of files"
   ]
  },
  {
   "cell_type": "code",
   "execution_count": 8,
   "id": "e83d5c30-162e-47a1-8f0d-47a88cf3ff41",
   "metadata": {},
   "outputs": [],
   "source": [
    "with open(files) as e:\n",
    "    data = e.readlines()\n",
    "scanable = dict()\n",
    "for file in data:\n",
    "    ff = file.strip()\n",
    "    f = ff.split('/')\n",
    "    fits = False\n",
    "    if ff.endswith('.fits') or ff.endswith('.fits.gz'):\n",
    "        fits = True\n",
    "    if fits:\n",
    "        if len(f) == 1:\n",
    "            section = 'top'\n",
    "        elif f[1] == '1x_depth' or f[1] == '4x_depth':\n",
    "            section = 'tiles:depth'\n",
    "        elif f[1] == 'lowspeed':\n",
    "            section = 'tiles:lowspeed'\n",
    "        else:\n",
    "            section = f[0]\n",
    "    else:\n",
    "        section = 'other'\n",
    "    if fits and section not in scanable:\n",
    "        scanable[section] = dict()\n",
    "    excluded = False\n",
    "    for key in r['exclude']:\n",
    "        m = r['exclude'][key].match(ff)\n",
    "        if m is not None:\n",
    "            excluded = True\n",
    "    if excluded:\n",
    "        continue\n",
    "    matched = False\n",
    "    for key in r[section]:\n",
    "        m = r[section][key].match(ff)\n",
    "        if m is not None:\n",
    "            matched = True\n",
    "            if fits:\n",
    "                if key in scanable[section]:\n",
    "                    scanable[section][key].append(ff)\n",
    "                else:\n",
    "                    scanable[section][key] = [ff]\n",
    "    if not matched:\n",
    "        print(\"ERROR: Could not match {0}!\".format(ff))"
   ]
  },
  {
   "cell_type": "markdown",
   "id": "ec3b79a0-ff64-46fe-896c-c36219608ab3",
   "metadata": {},
   "source": [
    "## From the list of all file types, pick one at random"
   ]
  },
  {
   "cell_type": "code",
   "execution_count": null,
   "id": "cf6ecb9e-225c-442b-b3f4-b3c84af79a22",
   "metadata": {},
   "outputs": [],
   "source": [
    "scan = dict()\n",
    "for section in scanable:\n",
    "    scan[section] = dict()\n",
    "    for ftype in scanable[section]:\n",
    "        scan[section][ftype] = choice(scanable[section][ftype])\n",
    "scan"
   ]
  },
  {
   "cell_type": "markdown",
   "id": "e32c6af3-be8b-4e7d-81bd-e973ed6ed653",
   "metadata": {},
   "source": [
    "## Run fitsverify on the chosen files"
   ]
  },
  {
   "cell_type": "code",
   "execution_count": null,
   "id": "ca5e689d-2d0d-4472-a93e-ec9a9e34191f",
   "metadata": {},
   "outputs": [],
   "source": [
    "for section in scan:\n",
    "    for key in scan[section]:\n",
    "        command = ['fitsverify', '-l', scan[section][key]]\n",
    "        proc = sp.Popen(command, stdout=sp.PIPE, stderr=sp.PIPE, cwd=specprod_path)\n",
    "        out, err = proc.communicate()\n",
    "        # print(section, key, out.decode('ascii').split('\\n')[-2])\n",
    "        result = out.decode('ascii').split('\\n')[-2]\n",
    "        if result == \"**** Verification found 0 warning(s) and 0 error(s). ****\":\n",
    "            pass\n",
    "            # print(section, key, \"No problems detected.\")\n",
    "        else:\n",
    "            print(section, key, \"Problems detected!\")\n",
    "            print(out.decode('ascii'))\n",
    "            if err:\n",
    "                print(err.decode('ascii'))"
   ]
  },
  {
   "cell_type": "markdown",
   "id": "e768253a-35c6-4f86-b01c-61d3b3e672ef",
   "metadata": {},
   "source": [
    "## Generate datamodel stub files on all chosen files"
   ]
  },
  {
   "cell_type": "code",
   "execution_count": null,
   "id": "ba58b3e5-db16-4ce4-b1d1-a3bbd68cf15a",
   "metadata": {},
   "outputs": [],
   "source": [
    "for section in scan:\n",
    "    for key in scan[section]:\n",
    "        command = ['generate_model', os.path.join(specprod_path, scan[section][key])]\n",
    "        print(' '.join(command))\n",
    "        proc = sp.Popen(command, stdout=sp.PIPE, stderr=sp.PIPE)\n",
    "        out, err = proc.communicate()\n",
    "        if proc.returncode != 0:\n",
    "            print(out.decode('ascii'))\n",
    "            print(err.decode('ascii'))\n",
    "        if key == 'shifted-input-psf':\n",
    "            src = 'shifted'\n",
    "        elif key == 'fit-psf' or key == 'fit-psf-fixed-blacklisted' or key == 'fit-psf-before-blacklisted-fix':\n",
    "            src = 'fit'\n",
    "        elif key == 'exposure-qa':\n",
    "            src = 'exposure'\n",
    "        elif key == 'tile-qa':\n",
    "            src = 'tile'\n",
    "        else:\n",
    "            src = key\n",
    "        if os.path.exists(f'{src}.rst'):\n",
    "            d = os.path.dirname(structure[section][key])\n",
    "            if d and not os.path.isdir(d):\n",
    "                print(\"os.makedirs('{0}')\".format(d))\n",
    "                os.makedirs(d)\n",
    "            print(\"shutil.move('{0}.rst', '{1}'\".format(src, structure[section][key]))\n",
    "            shutil.move('{0}.rst'.format(src), structure[section][key])\n",
    "        else:\n",
    "            print(\"ERROR: Could not find file corresponding to {0}.rst -> {1}!\".format(src, scan[section][key]))\n",
    "            "
   ]
  },
  {
   "cell_type": "markdown",
   "id": "597ed47f-d68f-47ab-a6a2-106c872efd1f",
   "metadata": {},
   "source": [
    "## Scan preproc files for errors"
   ]
  },
  {
   "cell_type": "code",
   "execution_count": null,
   "id": "b411eab2-64b9-418e-880a-ad1ae0b50705",
   "metadata": {},
   "outputs": [],
   "source": [
    "for p in choices(scanable['preproc']['preproc'], k=len(scanable['preproc']['preproc'])//100):\n",
    "    command = ['fitsverify', '-l', p]\n",
    "    proc = sp.Popen(command, stdout=sp.PIPE, stderr=sp.PIPE, cwd=specprod_path)\n",
    "    out, err = proc.communicate()\n",
    "    # print(section, key, out.decode('ascii').split('\\n')[-2])\n",
    "    result = out.decode('ascii').split('\\n')[-2]\n",
    "    if result == \"**** Verification found 0 warning(s) and 0 error(s). ****\":\n",
    "        print(p, \"No problems detected.\")\n",
    "    else:\n",
    "        # print(p, \"Problems detected!\")\n",
    "        o = out.decode('ascii')\n",
    "        if ('*** Warning: Data checksum is not consistent with  the DATASUM keyword' in o and\n",
    "            '*** Warning: HDU checksum is not in agreement with CHECKSUM.' in o):\n",
    "            lines = o.split('\\n')\n",
    "            hduline = lines[lines.index('*** Warning: Data checksum is not consistent with  the DATASUM keyword') - 2]\n",
    "            print(p, 'Checksum problems detected in {0}!'.format(hduline.strip('=').strip()))\n",
    "            # print(out.decode('ascii'))\n",
    "        else:\n",
    "            print(p, \"Other problems detected!\")\n",
    "        # if err:\n",
    "        #     print(err.decode('ascii'))"
   ]
  },
  {
   "cell_type": "code",
   "execution_count": null,
   "id": "c4e38ff5-54fd-4e3d-b756-888e6c94a750",
   "metadata": {},
   "outputs": [],
   "source": []
  }
 ],
 "metadata": {
  "kernelspec": {
   "display_name": "DESI custom",
   "language": "python",
   "name": "desi-custom"
  },
  "language_info": {
   "codemirror_mode": {
    "name": "ipython",
    "version": 3
   },
   "file_extension": ".py",
   "mimetype": "text/x-python",
   "name": "python",
   "nbconvert_exporter": "python",
   "pygments_lexer": "ipython3",
   "version": "3.9.7"
  }
 },
 "nbformat": 4,
 "nbformat_minor": 5
}
